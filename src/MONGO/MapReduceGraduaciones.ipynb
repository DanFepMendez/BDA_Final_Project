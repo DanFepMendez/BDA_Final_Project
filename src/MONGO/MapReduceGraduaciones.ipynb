{
 "cells": [
  {
   "cell_type": "markdown",
   "metadata": {},
   "source": [
    "# MapReduce Graduaciones"
   ]
  },
  {
   "cell_type": "code",
   "execution_count": 1,
   "metadata": {},
   "outputs": [],
   "source": [
    "###############################################################\n",
    "#!/usr/bin/python\n",
    "# Purpose: Migrate Products from MySQL to Mongo\n",
    "# Dependecies : python-pip , pymongo , mysqldb\n",
    "# apt-get install python-pip ; pip install pymongo;\n",
    "# apt-get install python-MySQLdb\n",
    "\n",
    "\n",
    "import pymongo\n",
    "import datetime\n",
    "import enum\n",
    "from pprint import pprint"
   ]
  },
  {
   "cell_type": "code",
   "execution_count": 2,
   "metadata": {},
   "outputs": [],
   "source": [
    "mongodb_host = \"mongodb://localhost:11111/\"\n",
    "mongodb_dbname = \"project_test\"\n",
    "\n",
    "mclient = pymongo.MongoClient(mongodb_host)\n",
    "mdb = mclient[mongodb_dbname] "
   ]
  },
  {
   "cell_type": "code",
   "execution_count": 3,
   "metadata": {},
   "outputs": [
    {
     "name": "stdout",
     "output_type": "stream",
     "text": [
      "['contrataciones', 'registro_publicaciones', 'egresado', 'revista', 'cargos', 'sede_universidad', 'time_', 'publicacion', 'departamento', 'programa', 'institucion', 'facultad', 'graduaciones', 'empresa']\n"
     ]
    }
   ],
   "source": [
    "collections = mdb.list_collection_names()\n",
    "print(collections)"
   ]
  },
  {
   "cell_type": "code",
   "execution_count": 4,
   "metadata": {},
   "outputs": [
    {
     "name": "stdout",
     "output_type": "stream",
     "text": [
      "{'_id': ObjectId('6621a41fb3c7f9a39bdf6f57'),\n",
      " 'date_id': datetime.datetime(2015, 11, 15, 0, 0),\n",
      " 'departamento_id': {'departamento_id': 10,\n",
      "                     'departamento_nombre': 'DEPARTAMENTO DE PSICOLOGÍA'},\n",
      " 'egresado_id': {'egresado_address': '03403 Tyler Neck Apt. 540\\n'\n",
      "                                     'Lake Patrick, GA 66352',\n",
      "                 'egresado_cellphone': '(837)862-1',\n",
      "                 'egresado_edad': 37,\n",
      "                 'egresado_emailaddress': 'thomaspatrick@gmail.com',\n",
      "                 'egresado_etnicgroup': 'ACTIVO',\n",
      "                 'egresado_firstlastname': 'COHEN',\n",
      "                 'egresado_gender': 'MASCULINO',\n",
      "                 'egresado_id': 1,\n",
      "                 'egresado_names': 'RICHARD',\n",
      "                 'egresado_secondlastname': 'PINEDA'},\n",
      " 'facultad_id': {'facultad_id': 11, 'facultad_nombre': 'ODONTOLOGÍA'},\n",
      " 'programa_id': {'programa_id': 26,\n",
      "                 'programa_nivelacademico': 'PREGRADO',\n",
      "                 'programa_nombre': 'INGENIERÍA AGRÍCOLA'},\n",
      " 'registration_id': 1,\n",
      " 'sede_id': {'sede_id': 1, 'sede_nombre': 'AMAZONIA'}}\n"
     ]
    }
   ],
   "source": [
    "graduaciones = mdb[\"graduaciones\"]\n",
    "pprint(graduaciones.find()[0])"
   ]
  },
  {
   "cell_type": "code",
   "execution_count": 5,
   "metadata": {},
   "outputs": [
    {
     "name": "stdout",
     "output_type": "stream",
     "text": [
      "{'_id': 2, 'count_egresado': 17}\n",
      "{'_id': 9, 'count_egresado': 17}\n",
      "{'_id': 4, 'count_egresado': 6}\n",
      "{'_id': 6, 'count_egresado': 16}\n",
      "{'_id': 10, 'count_egresado': 15}\n",
      "{'_id': 1, 'count_egresado': 2}\n",
      "{'_id': 8, 'count_egresado': 5}\n",
      "{'_id': 3, 'count_egresado': 3}\n",
      "{'_id': 11, 'count_egresado': 19}\n"
     ]
    }
   ],
   "source": [
    "# Egresados por facultad\n",
    "\n",
    "stage_group_facultad = {\n",
    "  \"$group\": {\n",
    "    \"_id\" : \"$facultad_id.facultad_id\",\n",
    "    \"count_egresado\": {\"$sum\": 1}\n",
    "  }\n",
    "}\n",
    "\n",
    "stage_out_facultad = {\n",
    "  \"$out\": \"graduaciones_facultad\"\n",
    "}\n",
    "\n",
    "pipeline = [\n",
    "  stage_group_facultad,\n",
    "  stage_out_facultad\n",
    "]\n",
    "\n",
    "results = graduaciones.aggregate(pipeline)\n",
    "\n",
    "for graduacion_mapreduce in mdb[\"graduaciones_facultad\"].find():\n",
    "  print(graduacion_mapreduce)"
   ]
  },
  {
   "cell_type": "code",
   "execution_count": 6,
   "metadata": {},
   "outputs": [
    {
     "name": "stdout",
     "output_type": "stream",
     "text": [
      "{'_id': 'POSGRADO', 'count_egresado': 79}\n",
      "{'_id': 'PREGRADO', 'count_egresado': 21}\n"
     ]
    }
   ],
   "source": [
    "# Egresados por tipo programa\n",
    "\n",
    "stage_group_tipo_programa = {\n",
    "  \"$group\": {\n",
    "    \"_id\" : \"$programa_id.programa_nivelacademico\",\n",
    "    \"count_egresado\": {\"$sum\": 1}\n",
    "  }\n",
    "}\n",
    "\n",
    "stage_out_tipo_programa = {\n",
    "  \"$out\": \"graduaciones_tipo_programa\"\n",
    "}\n",
    "\n",
    "pipeline = [\n",
    "  stage_group_tipo_programa,\n",
    "  stage_out_tipo_programa\n",
    "]\n",
    "\n",
    "results = graduaciones.aggregate(pipeline)\n",
    "\n",
    "for graduacion_mapreduce in mdb[\"graduaciones_tipo_programa\"].find():\n",
    "  print(graduacion_mapreduce)"
   ]
  },
  {
   "cell_type": "code",
   "execution_count": 7,
   "metadata": {},
   "outputs": [
    {
     "name": "stdout",
     "output_type": "stream",
     "text": [
      "{'_id': {'sede_nombre': 'CARIBE', 'sede_id': 2}, 'count_egresado': 14}\n",
      "{'_id': {'sede_nombre': 'MANIZALES', 'sede_id': 4}, 'count_egresado': 14}\n",
      "{'_id': {'sede_nombre': 'AMAZONIA', 'sede_id': 1}, 'count_egresado': 22}\n",
      "{'_id': {'sede_nombre': 'TUMACO Y DE LA PAZ', 'sede_id': 8}, 'count_egresado': 11}\n",
      "{'_id': {'sede_nombre': 'MEDELLÍN', 'sede_id': 5}, 'count_egresado': 15}\n",
      "{'_id': {'sede_nombre': 'ORINOQUIA', 'sede_id': 6}, 'count_egresado': 14}\n",
      "{'_id': {'sede_nombre': 'BOGOTÁ', 'sede_id': 3}, 'count_egresado': 10}\n"
     ]
    }
   ],
   "source": [
    "# Egresados por tipo sede\n",
    "\n",
    "stage_group_sede = {\n",
    "  \"$group\": {\n",
    "    \"_id\" : \"$sede_id\",\n",
    "    \"count_egresado\": {\"$sum\": 1}\n",
    "  }\n",
    "}\n",
    "\n",
    "stage_out_sede = {\n",
    "  \"$out\": \"graduaciones_sede\"\n",
    "}\n",
    "\n",
    "pipeline = [\n",
    "  stage_group_sede,\n",
    "  stage_out_sede\n",
    "]\n",
    "\n",
    "results = graduaciones.aggregate(pipeline)\n",
    "\n",
    "for graduacion_mapreduce in mdb[\"graduaciones_sede\"].find():\n",
    "  print(graduacion_mapreduce)"
   ]
  },
  {
   "cell_type": "code",
   "execution_count": 8,
   "metadata": {},
   "outputs": [
    {
     "name": "stdout",
     "output_type": "stream",
     "text": [
      "{'_id': 1981, 'count_egresado': 2}\n",
      "{'_id': 2012, 'count_egresado': 1}\n",
      "{'_id': 1974, 'count_egresado': 2}\n",
      "{'_id': 2021, 'count_egresado': 2}\n",
      "{'_id': 2000, 'count_egresado': 1}\n",
      "{'_id': 1988, 'count_egresado': 3}\n",
      "{'_id': 1999, 'count_egresado': 2}\n",
      "{'_id': 1992, 'count_egresado': 1}\n",
      "{'_id': 1971, 'count_egresado': 2}\n",
      "{'_id': 2008, 'count_egresado': 4}\n",
      "{'_id': 1998, 'count_egresado': 2}\n",
      "{'_id': 1977, 'count_egresado': 1}\n",
      "{'_id': 1980, 'count_egresado': 1}\n",
      "{'_id': 1995, 'count_egresado': 1}\n",
      "{'_id': 2016, 'count_egresado': 6}\n",
      "{'_id': 1982, 'count_egresado': 1}\n",
      "{'_id': 1978, 'count_egresado': 3}\n",
      "{'_id': 2019, 'count_egresado': 3}\n",
      "{'_id': 1979, 'count_egresado': 3}\n",
      "{'_id': 1991, 'count_egresado': 2}\n",
      "{'_id': 1984, 'count_egresado': 2}\n",
      "{'_id': 2022, 'count_egresado': 5}\n",
      "{'_id': 2005, 'count_egresado': 1}\n",
      "{'_id': 2004, 'count_egresado': 1}\n",
      "{'_id': 2010, 'count_egresado': 1}\n",
      "{'_id': 2011, 'count_egresado': 3}\n",
      "{'_id': 2009, 'count_egresado': 3}\n",
      "{'_id': 1983, 'count_egresado': 2}\n",
      "{'_id': 1996, 'count_egresado': 3}\n",
      "{'_id': 2014, 'count_egresado': 2}\n",
      "{'_id': 1986, 'count_egresado': 1}\n",
      "{'_id': 2015, 'count_egresado': 4}\n",
      "{'_id': 2001, 'count_egresado': 2}\n",
      "{'_id': 2006, 'count_egresado': 3}\n",
      "{'_id': 1993, 'count_egresado': 1}\n",
      "{'_id': 1976, 'count_egresado': 2}\n",
      "{'_id': 2007, 'count_egresado': 1}\n",
      "{'_id': 2002, 'count_egresado': 2}\n",
      "{'_id': 2003, 'count_egresado': 1}\n",
      "{'_id': 1997, 'count_egresado': 2}\n",
      "{'_id': 1975, 'count_egresado': 2}\n",
      "{'_id': 2020, 'count_egresado': 2}\n",
      "{'_id': 1973, 'count_egresado': 3}\n",
      "{'_id': 1994, 'count_egresado': 4}\n",
      "{'_id': 1989, 'count_egresado': 2}\n",
      "{'_id': 2018, 'count_egresado': 2}\n"
     ]
    }
   ],
   "source": [
    "# Egresados por tipo sede\n",
    "\n",
    "stage_group_year = {\n",
    "  \"$group\": {\n",
    "    \"_id\" : {\"$year\": {\"$toDate\": \"$date_id\"}},\n",
    "    \"count_egresado\": {\"$sum\": 1}\n",
    "  }\n",
    "}\n",
    "\n",
    "stage_out_year = {\n",
    "  \"$out\": \"graduaciones_year\"\n",
    "}\n",
    "\n",
    "pipeline = [\n",
    "  stage_group_year,\n",
    "  stage_out_year\n",
    "]\n",
    "\n",
    "results = graduaciones.aggregate(pipeline)\n",
    "\n",
    "for graduacion_mapreduce in mdb[\"graduaciones_year\"].find():\n",
    "  print(graduacion_mapreduce)"
   ]
  }
 ],
 "metadata": {
  "kernelspec": {
   "display_name": "Python 3",
   "language": "python",
   "name": "python3"
  },
  "language_info": {
   "codemirror_mode": {
    "name": "ipython",
    "version": 3
   },
   "file_extension": ".py",
   "mimetype": "text/x-python",
   "name": "python",
   "nbconvert_exporter": "python",
   "pygments_lexer": "ipython3",
   "version": "3.12.2"
  }
 },
 "nbformat": 4,
 "nbformat_minor": 2
}
